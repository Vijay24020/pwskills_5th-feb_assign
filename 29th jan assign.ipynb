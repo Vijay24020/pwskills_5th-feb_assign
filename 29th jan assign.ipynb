{
 "cells": [
  {
   "cell_type": "markdown",
   "id": "370eef57-350b-49c4-bd0e-5241ec4a6869",
   "metadata": {},
   "source": [
    "29th Jan Assignment :-"
   ]
  },
  {
   "cell_type": "markdown",
   "id": "b027ba85-a6e5-4f9a-8162-5fba0cb3a6a1",
   "metadata": {},
   "source": [
    "1. guido Van Rossum  developed Pyhton programming language."
   ]
  },
  {
   "cell_type": "markdown",
   "id": "4d825258-ab58-4f34-ba37-bfb84e38e738",
   "metadata": {},
   "source": [
    "2. Python supports both interpreted, interactive, OOPS based Programming language."
   ]
  },
  {
   "cell_type": "markdown",
   "id": "4dd3ab2b-4286-4122-9a88-f29ad6018a10",
   "metadata": {},
   "source": [
    "3. Yes, Python is case sensitive while dealing with identifiers."
   ]
  },
  {
   "cell_type": "markdown",
   "id": "fae1af29-4b0e-4213-b600-030be93baa8d",
   "metadata": {},
   "source": [
    "4. Correct extension for python file is .py and .pyi"
   ]
  },
  {
   "cell_type": "markdown",
   "id": "43cdbceb-739e-4032-9c2e-d98d245e00d0",
   "metadata": {},
   "source": [
    "5. Python code is interpreted."
   ]
  },
  {
   "cell_type": "markdown",
   "id": "d98aa8ac-f95d-466b-ba7f-106b74bf44b3",
   "metadata": {},
   "source": [
    "6. A module , a function body and a class definition are a few blocks of code used to define in python language."
   ]
  },
  {
   "cell_type": "markdown",
   "id": "1ada6389-14a0-4cfa-9215-06e93ba7cd4a",
   "metadata": {},
   "source": [
    "7. '#' character is used to define single line comments in python"
   ]
  },
  {
   "cell_type": "markdown",
   "id": "c91557e5-730e-4140-83af-8f881b72c15a",
   "metadata": {},
   "source": [
    "8. python_version() is used to find the version of pyhton in our machine."
   ]
  },
  {
   "cell_type": "markdown",
   "id": "45cb79ed-a482-44bd-b278-4c89f9c9a570",
   "metadata": {},
   "source": [
    "9. lambda"
   ]
  },
  {
   "cell_type": "markdown",
   "id": "613d15dd-dfb0-498b-b47d-2473848cbb2e",
   "metadata": {},
   "source": [
    "10. \"pip\" is an acronym of pip install packages."
   ]
  },
  {
   "cell_type": "markdown",
   "id": "8e2f2ee1-8827-40ea-ab61-db9aeaf249cb",
   "metadata": {},
   "source": [
    "11. few built in functions in pyhton are:-\n",
    "range(), print(), len(), update(), remove(), pop(), index()"
   ]
  },
  {
   "cell_type": "markdown",
   "id": "9a72992a-6831-4cd7-889d-1574cc562a97",
   "metadata": {},
   "source": [
    "12. Max possible length of an identifier in python is 79 characters."
   ]
  },
  {
   "cell_type": "markdown",
   "id": "ce7bf72b-40ff-4954-b44e-0fd7e4d66bd4",
   "metadata": {},
   "source": [
    "13. Benefits of using pyhton is :-\n",
    "easy to use, learn, provies Machine learning based modules, used in web development."
   ]
  },
  {
   "cell_type": "markdown",
   "id": "3ec2de7b-4bd8-492f-ae5c-31bd41a72672",
   "metadata": {},
   "source": [
    "14. Memory is managed in python by python private heap space."
   ]
  },
  {
   "cell_type": "markdown",
   "id": "0a473423-316d-44ca-9a1b-a91239506a78",
   "metadata": {},
   "source": [
    "15. Yes, indentation is required in pyhton."
   ]
  },
  {
   "cell_type": "code",
   "execution_count": null,
   "id": "be82933a-ecf5-4bdc-b155-4e97285551e8",
   "metadata": {},
   "outputs": [],
   "source": []
  }
 ],
 "metadata": {
  "kernelspec": {
   "display_name": "Python 3 (ipykernel)",
   "language": "python",
   "name": "python3"
  },
  "language_info": {
   "codemirror_mode": {
    "name": "ipython",
    "version": 3
   },
   "file_extension": ".py",
   "mimetype": "text/x-python",
   "name": "python",
   "nbconvert_exporter": "python",
   "pygments_lexer": "ipython3",
   "version": "3.10.6"
  }
 },
 "nbformat": 4,
 "nbformat_minor": 5
}
